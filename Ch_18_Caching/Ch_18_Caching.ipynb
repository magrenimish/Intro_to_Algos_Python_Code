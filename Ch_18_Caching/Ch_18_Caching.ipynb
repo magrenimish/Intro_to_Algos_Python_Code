{
  "nbformat": 4,
  "nbformat_minor": 0,
  "metadata": {
    "colab": {
      "provenance": []
    },
    "kernelspec": {
      "name": "python3",
      "display_name": "Python 3"
    },
    "language_info": {
      "name": "python"
    }
  },
  "cells": [
    {
      "cell_type": "markdown",
      "source": [
        "# Least Recently Used (LRU) Cache Management"
      ],
      "metadata": {
        "id": "4528GgN235Gl"
      }
    },
    {
      "cell_type": "code",
      "execution_count": null,
      "metadata": {
        "id": "YQhJfSY83l-x"
      },
      "outputs": [],
      "source": [
        "class LRUCache:\n",
        "    def __init__(self, capacity):\n",
        "        self.capacity = capacity\n",
        "        self.cache = {}\n",
        "        self.order = []\n",
        "\n",
        "    def compute_index(self, address):\n",
        "        return address\n",
        "\n",
        "    def access(self, address):\n",
        "        index = self.compute_index(address)\n",
        "        if index in self.cache:\n",
        "            # Move address to most recently used position\n",
        "            self.order.remove(index)\n",
        "            self.order.append(index)\n",
        "        else:\n",
        "            if len(self.cache) >= self.capacity:\n",
        "                # Evict least recently used address\n",
        "                lru = self.order.pop(0)\n",
        "                del self.cache[lru]\n",
        "            # Insert address at most recently used position\n",
        "            self.cache[index] = address\n",
        "            self.order.append(index)\n",
        "\n",
        "# Example usage:\n",
        "cache = LRUCache(3)\n",
        "cache.access(1)\n",
        "cache.access(2)\n",
        "cache.access(3)\n",
        "print(\"Cache order after inserting 1, 2, 3:\", cache.order)\n",
        "cache.access(4)\n",
        "print(\"Cache order after inserting 4 (evicts 1):\", cache.order)\n",
        "cache.access(2)\n",
        "print(\"Cache order after accessing 2:\", cache.order)\n",
        "cache.access(5)\n",
        "print(\"Cache order after inserting 5 (evicts 3):\", cache.order)"
      ]
    },
    {
      "cell_type": "markdown",
      "source": [
        "# Texture Cache Management in GPUs"
      ],
      "metadata": {
        "id": "pB3jafPP4Ga7"
      }
    },
    {
      "cell_type": "code",
      "source": [
        "class TextureCache:\n",
        "    def __init__(self):\n",
        "        self.cache = {}\n",
        "\n",
        "    def fetch_texture(self, texture_id):\n",
        "        if texture_id in self.cache:\n",
        "            # Return cached texture data\n",
        "            return self.cache[texture_id]\n",
        "        else:\n",
        "            # Fetch texture data from global memory (simulated)\n",
        "            texture_data = self.fetch_from_global_memory(texture_id)\n",
        "            # Store texture data in cache\n",
        "            self.cache[texture_id] = texture_data\n",
        "            # Return texture data\n",
        "            return texture_data\n",
        "\n",
        "    def fetch_from_global_memory(self, texture_id):\n",
        "        # Simulate fetching texture data from global memory\n",
        "        return f\"Texture data for {texture_id}\"\n",
        "\n",
        "# Example usage:\n",
        "texture_cache = TextureCache()\n",
        "print(texture_cache.fetch_texture(1))  # Fetches from global memory\n",
        "print(texture_cache.fetch_texture(2))  # Fetches from global memory\n",
        "print(texture_cache.fetch_texture(1))  # Returns cached texture data"
      ],
      "metadata": {
        "id": "uHd6ibvO4GyP"
      },
      "execution_count": null,
      "outputs": []
    },
    {
      "cell_type": "markdown",
      "source": [
        "# Time-Based Expiration Web Caching"
      ],
      "metadata": {
        "id": "2QYOY6R74SCs"
      }
    },
    {
      "cell_type": "code",
      "source": [
        "import time\n",
        "\n",
        "class WebCache:\n",
        "    def __init__(self, expiration_time):\n",
        "        self.cache = {}\n",
        "        self.expiration_time = expiration_time\n",
        "\n",
        "    def fetch_resource(self, url):\n",
        "        current_time = time.time()\n",
        "        if url in self.cache and not self.is_expired(url, current_time):\n",
        "            # Return cached resource\n",
        "            return self.cache[url]['data']\n",
        "        else:\n",
        "            # Fetch resource from web server (simulated)\n",
        "            resource = self.fetch_from_web_server(url)\n",
        "            # Store resource in cache with current timestamp\n",
        "            self.cache[url] = {'data': resource, 'timestamp': current_time}\n",
        "            # Return resource\n",
        "            return resource\n",
        "\n",
        "    def is_expired(self, url, current_time):\n",
        "        return current_time - self.cache[url]['timestamp'] > self.expiration_time\n",
        "\n",
        "    def fetch_from_web_server(self, url):\n",
        "        # Simulate fetching resource from web server\n",
        "        return f\"Resource data for {url}\"\n",
        "\n",
        "# Example usage:\n",
        "expiration_time = 60  # Resources expire after 60 seconds\n",
        "web_cache = WebCache(expiration_time)\n",
        "print(web_cache.fetch_resource('http://example.com/resource1'))  # Fetches from web server\n",
        "print(web_cache.fetch_resource('http://example.com/resource1'))  # Returns cached resource\n",
        "time.sleep(61)\n",
        "print(web_cache.fetch_resource('http://example.com/resource1'))  # Fetches from web server (expired)"
      ],
      "metadata": {
        "id": "FU0FDFI94SZT"
      },
      "execution_count": null,
      "outputs": []
    },
    {
      "cell_type": "markdown",
      "source": [
        "# Query Result Caching in Databases"
      ],
      "metadata": {
        "id": "MocEKq9N4a5y"
      }
    },
    {
      "cell_type": "code",
      "source": [
        "import time\n",
        "\n",
        "class QueryCache:\n",
        "    def __init__(self, expiration_time):\n",
        "        self.cache = {}\n",
        "        self.expiration_time = expiration_time\n",
        "\n",
        "    def execute_query(self, query):\n",
        "        current_time = time.time()\n",
        "        if query in self.cache and not self.is_expired(query, current_time):\n",
        "            # Return cached query result\n",
        "            return self.cache[query]['result']\n",
        "        else:\n",
        "            # Execute query on database (simulated)\n",
        "            result = self.execute_on_database(query)\n",
        "            # Store query result in cache with current timestamp\n",
        "            self.cache[query] = {'result': result, 'timestamp': current_time}\n",
        "            # Return query result\n",
        "            return result\n",
        "\n",
        "    def is_expired(self, query, current_time):\n",
        "        return current_time - self.cache[query]['timestamp'] > self.expiration_time\n",
        "\n",
        "    def execute_on_database(self, query):\n",
        "        # Simulate executing query on database\n",
        "        return f\"Result of {query}\"\n",
        "\n",
        "# Example usage:\n",
        "expiration_time = 300  # Query results expire after 300 seconds (5 minutes)\n",
        "query_cache = QueryCache(expiration_time)\n",
        "print(query_cache.execute_query('SELECT * FROM users'))  # Executes on database\n",
        "print(query_cache.execute_query('SELECT * FROM users'))  # Returns cached result\n",
        "time.sleep(301)\n",
        "print(query_cache.execute_query('SELECT * FROM users'))  # Executes on database (expired)"
      ],
      "metadata": {
        "id": "93fkxz2M4beR"
      },
      "execution_count": null,
      "outputs": []
    },
    {
      "cell_type": "markdown",
      "source": [
        "# LRU Cache Eviction"
      ],
      "metadata": {
        "id": "Uk8Wxj0m4tzF"
      }
    },
    {
      "cell_type": "code",
      "source": [
        "from collections import deque\n",
        "\n",
        "class LRUCache:\n",
        "    def __init__(self, capacity):\n",
        "        self.capacity = capacity\n",
        "        self.cache = deque()\n",
        "\n",
        "    def get(self, key):\n",
        "        if key in self.cache:\n",
        "            # Move key to the most recently used position\n",
        "            self.cache.remove(key)\n",
        "            self.cache.append(key)\n",
        "            return f\"Item {key} found in cache\"\n",
        "        else:\n",
        "            return f\"Item {key} not found in cache\"\n",
        "\n",
        "    def put(self, key):\n",
        "        if key in self.cache:\n",
        "            # Move key to the most recently used position\n",
        "            self.cache.remove(key)\n",
        "        elif len(self.cache) == self.capacity:\n",
        "            # Evict the least recently used item\n",
        "            self.cache.popleft()\n",
        "        # Insert the key at the most recently used position\n",
        "        self.cache.append(key)\n",
        "\n",
        "# Example usage\n",
        "lru_cache = LRUCache(capacity=3)\n",
        "print(lru_cache.get(1))  # Output: Item 1 not found in cache\n",
        "lru_cache.put(1)\n",
        "print(lru_cache.get(1))  # Output: Item 1 found in cache\n",
        "lru_cache.put(2)\n",
        "lru_cache.put(3)\n",
        "print(lru_cache.get(2))  # Output: Item 2 found in cache\n",
        "lru_cache.put(4)\n",
        "print(lru_cache.get(1))  # Output: Item 1 not found in cache (evicted)\n",
        "print(lru_cache.get(3))  # Output: Item 3 found in cache\n",
        "print(lru_cache.get(4))  # Output: Item 4 found in cache"
      ],
      "metadata": {
        "id": "htauUUpB495l"
      },
      "execution_count": null,
      "outputs": []
    },
    {
      "cell_type": "markdown",
      "source": [
        "# FIFO Cache Eviction"
      ],
      "metadata": {
        "id": "N9IKFpDu5D3f"
      }
    },
    {
      "cell_type": "code",
      "source": [
        "from collections import deque\n",
        "\n",
        "class FIFOCache:\n",
        "    def __init__(self, capacity):\n",
        "        self.capacity = capacity\n",
        "        self.cache = deque()\n",
        "\n",
        "    def get(self, key):\n",
        "        if key in self.cache:\n",
        "            return f\"Item {key} found in cache\"\n",
        "        else:\n",
        "            return f\"Item {key} not found in cache\"\n",
        "\n",
        "    def put(self, key):\n",
        "        if len(self.cache) == self.capacity:\n",
        "            self.cache.popleft()\n",
        "        self.cache.append(key)\n",
        "\n",
        "# Example usage\n",
        "fifo_cache = FIFOCache(capacity=3)\n",
        "print(fifo_cache.get(1))  # Output: Item 1 not found in cache\n",
        "fifo_cache.put(1)\n",
        "print(fifo_cache.get(1))  # Output: Item 1 found in cache\n",
        "fifo_cache.put(2)\n",
        "fifo_cache.put(3)\n",
        "print(fifo_cache.get(2))  # Output: Item 2 found in cache\n",
        "fifo_cache.put(4)\n",
        "print(fifo_cache.get(1))  # Output: Item 1 not found in cache (evicted)\n",
        "print(fifo_cache.get(3))  # Output: Item 3 found in cache\n",
        "print(fifo_cache.get(4))  # Output: Item 4 found in cache"
      ],
      "metadata": {
        "id": "x1aFEX1Q5EK5"
      },
      "execution_count": null,
      "outputs": []
    },
    {
      "cell_type": "markdown",
      "source": [
        "# Adaptive Replacement Cache (ARC)"
      ],
      "metadata": {
        "id": "sIkH0uNO5Nzj"
      }
    },
    {
      "cell_type": "code",
      "source": [
        "class ARCCache:\n",
        "    def __init__(self, capacity):\n",
        "        self.capacity = capacity\n",
        "        self.T1 = deque()  # List for recently accessed items\n",
        "        self.T2 = deque()  # List for frequently accessed items\n",
        "        self.B1 = deque()  # List for recently evicted from T1\n",
        "        self.B2 = deque()  # List for recently evicted from T2\n",
        "        self.cache = set()  # Set for fast membership checking\n",
        "\n",
        "    def evict_arc(self, item):\n",
        "        if len(self.cache) == self.capacity:\n",
        "            if item in self.T1 or item in self.T2:\n",
        "                self.cache.remove(item)\n",
        "                if item in self.T1:\n",
        "                    self.T1.remove(item)\n",
        "                if item in self.T2:\n",
        "                    self.T2.remove(item)\n",
        "            else:\n",
        "                if self.B1:\n",
        "                    evicted = self.B1.popleft()\n",
        "                    self.cache.remove(evicted)\n",
        "                else:\n",
        "                    evicted = self.B2.popleft()\n",
        "                    self.cache.remove(evicted)\n",
        "        self.cache.add(item)\n",
        "        self.T1.append(item)  # Assume new items go into T1\n",
        "\n",
        "    def access_item(self, item):\n",
        "        if item in self.T1:\n",
        "            self.T1.remove(item)\n",
        "            self.T2.append(item)\n",
        "        elif item in self.T2:\n",
        "            self.T2.remove(item)\n",
        "            self.T2.append(item)\n",
        "        else:\n",
        "            if item in self.B1:\n",
        "                self.B1.remove(item)\n",
        "            if item in self.B2:\n",
        "                self.B2.remove(item)\n",
        "            self.evict_arc(item)\n",
        "\n",
        "# Example usage\n",
        "arc_cache = ARCCache(capacity=4)\n",
        "arc_cache.access_item(1)\n",
        "arc_cache.access_item(2)\n",
        "arc_cache.access_item(3)\n",
        "arc_cache.access_item(4)\n",
        "arc_cache.access_item(5)\n",
        "arc_cache.access_item(1)\n",
        "arc_cache.access_item(2)\n",
        "arc_cache.access_item(6)\n",
        "arc_cache.access_item(3)\n",
        "arc_cache.access_item(7)\n",
        "\n",
        "print(\"Current cache:\", list(arc_cache.cache))\n",
        "print(\"T1:\", list(arc_cache.T1))\n",
        "print(\"T2:\", list(arc_cache.T2))\n",
        "print(\"B1:\", list(arc_cache.B1))\n",
        "print(\"B2:\", list(arc_cache.B2))"
      ],
      "metadata": {
        "id": "3IziAAq95OT4"
      },
      "execution_count": null,
      "outputs": []
    },
    {
      "cell_type": "markdown",
      "source": [
        "# Bloom Filtering"
      ],
      "metadata": {
        "id": "JTIfnFLL5sYR"
      }
    },
    {
      "cell_type": "code",
      "source": [
        "import hashlib\n",
        "\n",
        "class BloomFilter:\n",
        "    def __init__(self, size, hash_count):\n",
        "        self.size = size\n",
        "        self.hash_count = hash_count\n",
        "        self.bit_array = [0] * size\n",
        "\n",
        "    def _hash(self, element, seed):\n",
        "        # Hash function using SHA-256\n",
        "        hash_val = int(hashlib.sha256(str(element).encode() + str(seed).encode()).hexdigest(), 16)\n",
        "        return hash_val % self.size\n",
        "\n",
        "    def insert(self, element):\n",
        "        for i in range(1, self.hash_count + 1):\n",
        "            h_i = self._hash(element, i)  # Apply k hash functions\n",
        "            self.bit_array[h_i] = 1  # Set corresponding bit to 1\n",
        "\n",
        "    def contains(self, element):\n",
        "        for i in range(1, self.hash_count + 1):\n",
        "            h_i = self._hash(element, i)  # Apply k hash functions\n",
        "            if self.bit_array[h_i] == 0:\n",
        "                return False  # Element is definitely not in the set\n",
        "        return True  # Element may be in the set\n",
        "\n",
        "# Example usage\n",
        "bloom_filter = BloomFilter(size=10, hash_count=3)\n",
        "bloom_filter.insert(\"apple\")\n",
        "bloom_filter.insert(\"banana\")\n",
        "\n",
        "print(bloom_filter.contains(\"apple\"))  # True\n",
        "print(bloom_filter.contains(\"banana\"))  # True\n",
        "print(bloom_filter.contains(\"orange\"))  # False"
      ],
      "metadata": {
        "id": "f1_KLDL65tSP"
      },
      "execution_count": null,
      "outputs": []
    },
    {
      "cell_type": "markdown",
      "source": [
        "# Count-Min Sketch Operations"
      ],
      "metadata": {
        "id": "D2J20Gxs56DM"
      }
    },
    {
      "cell_type": "code",
      "source": [
        "import hashlib\n",
        "\n",
        "class CountMinSketch:\n",
        "    def __init__(self, width, depth):\n",
        "        self.width = width\n",
        "        self.depth = depth\n",
        "        self.counters = [[0] * width for _ in range(depth)]\n",
        "\n",
        "    def _hash(self, element, seed):\n",
        "        # Hash function using SHA-256\n",
        "        hash_val = int(hashlib.sha256(str(element).encode() + str(seed).encode()).hexdigest(), 16)\n",
        "        return hash_val % self.width\n",
        "\n",
        "    def update(self, element):\n",
        "        for i in range(1, self.depth + 1):\n",
        "            h_i = self._hash(element, i)  # Apply d hash functions\n",
        "            self.counters[i - 1][h_i] += 1  # Update counters\n",
        "\n",
        "    def query(self, element):\n",
        "        min_count = float('inf')\n",
        "        for i in range(1, self.depth + 1):\n",
        "            h_i = self._hash(element, i)  # Apply d hash functions\n",
        "            min_count = min(min_count, self.counters[i - 1][h_i])  # Find minimum count\n",
        "        return min_count\n",
        "\n",
        "# Example usage\n",
        "cms = CountMinSketch(width=10, depth=5)\n",
        "cms.update(\"apple\")\n",
        "cms.update(\"banana\")\n",
        "cms.update(\"apple\")\n",
        "\n",
        "print(cms.query(\"apple\"))  # Output: 2\n",
        "print(cms.query(\"banana\")) # Output: 1\n",
        "print(cms.query(\"orange\")) # Output: 0"
      ],
      "metadata": {
        "id": "Bg4vbEIK56Wd"
      },
      "execution_count": null,
      "outputs": []
    },
    {
      "cell_type": "markdown",
      "source": [
        "# Web Browser Caching Algorithm"
      ],
      "metadata": {
        "id": "3S3VhcA76N1l"
      }
    },
    {
      "cell_type": "code",
      "source": [
        "import time\n",
        "import requests\n",
        "\n",
        "class WebBrowserCache:\n",
        "    def __init__(self):\n",
        "        self.cache = {}\n",
        "\n",
        "    def store_in_cache(self, url, response_body, ttl=300):\n",
        "        \"\"\"\n",
        "        Store the response in cache with a time-to-live (TTL).\n",
        "        Default TTL is 300 seconds (5 minutes).\n",
        "        \"\"\"\n",
        "        expiry_time = time.time() + ttl\n",
        "        self.cache[url] = (response_body, expiry_time)\n",
        "\n",
        "    def retrieve_resource(self, url):\n",
        "        \"\"\"\n",
        "        Retrieve the resource from the cache if available and not expired,\n",
        "        otherwise make an HTTP request to get the resource.\n",
        "        \"\"\"\n",
        "        if url in self.cache:\n",
        "            response_body, expiry_time = self.cache[url]\n",
        "            if time.time() < expiry_time:\n",
        "                return response_body\n",
        "            else:\n",
        "                del self.cache[url]  # Remove expired resource\n",
        "\n",
        "        response = requests.get(url)\n",
        "        if response.status_code == 200:\n",
        "            self.store_in_cache(url, response.text)\n",
        "        return response.text\n",
        "\n",
        "# Example usage\n",
        "browser_cache = WebBrowserCache()\n",
        "url = \"https://www.example.com\"\n",
        "resource = browser_cache.retrieve_resource(url)\n",
        "print(\"Resource content:\", resource)"
      ],
      "metadata": {
        "id": "iTcFiTm_6OK0"
      },
      "execution_count": null,
      "outputs": []
    },
    {
      "cell_type": "markdown",
      "source": [
        "# Data Prefetching Algorithm"
      ],
      "metadata": {
        "id": "tlw-njDZ6gw3"
      }
    },
    {
      "cell_type": "code",
      "source": [
        "class DataPrefetcher:\n",
        "    def __init__(self, stride):\n",
        "        self.stride = stride\n",
        "\n",
        "    def prefetch(self, address):\n",
        "        \"\"\"\n",
        "        Simulate the prefetching of data at the given address.\n",
        "        In a real system, this function would trigger the actual prefetching mechanism.\n",
        "        \"\"\"\n",
        "        print(f\"Prefetching data at address: {address}\")\n",
        "\n",
        "    def prefetch_data(self, address):\n",
        "        \"\"\"\n",
        "        Predict the next address to prefetch based on the stride and prefetch the data.\n",
        "        \"\"\"\n",
        "        predicted_address = address + self.stride\n",
        "        self.prefetch(predicted_address)\n",
        "\n",
        "# Example usage\n",
        "stride = 4\n",
        "prefetcher = DataPrefetcher(stride)\n",
        "current_address = 100\n",
        "prefetcher.prefetch_data(current_address)"
      ],
      "metadata": {
        "id": "woL9J_Nh6hG4"
      },
      "execution_count": null,
      "outputs": []
    }
  ]
}