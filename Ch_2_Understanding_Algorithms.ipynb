{
  "nbformat": 4,
  "nbformat_minor": 0,
  "metadata": {
    "colab": {
      "provenance": []
    },
    "kernelspec": {
      "name": "python3",
      "display_name": "Python 3"
    },
    "language_info": {
      "name": "python"
    }
  },
  "cells": [
    {
      "cell_type": "markdown",
      "source": [
        "# Sum of Array"
      ],
      "metadata": {
        "id": "9MtcabAdEKHB"
      }
    },
    {
      "cell_type": "code",
      "execution_count": null,
      "metadata": {
        "id": "YisS_GCpEAdJ"
      },
      "outputs": [],
      "source": [
        "def sum_array(A):\n",
        "    # Input: Array A\n",
        "    # Output: Sum of elements in A\n",
        "    total_sum = 0\n",
        "    for num in A:\n",
        "        total_sum += num\n",
        "    return total_sum\n",
        "\n",
        "# Example usage\n",
        "if __name__ == \"__main__\":\n",
        "    # Example array\n",
        "    array = [1, 2, 3, 4, 5]\n",
        "\n",
        "    # Calculate sum using the implemented function\n",
        "    result = sum_array(array)\n",
        "\n",
        "    # Output the result\n",
        "    print(f\"The sum of the array {array} is: {result}\")\n"
      ]
    },
    {
      "cell_type": "markdown",
      "source": [
        "# Maximum of Two Numbers"
      ],
      "metadata": {
        "id": "zBQEc_ZvEZCh"
      }
    },
    {
      "cell_type": "code",
      "source": [
        "def max_of_two_numbers(a, b):\n",
        "    # Input: Two numbers a and b\n",
        "    # Output: The maximum of a and b\n",
        "    if a > b:\n",
        "        return a\n",
        "    else:\n",
        "        return b\n",
        "\n",
        "# Example usage\n",
        "if __name__ == \"__main__\":\n",
        "    # Example numbers\n",
        "    num1 = 10\n",
        "    num2 = 5\n",
        "\n",
        "    # Calculate maximum using the implemented function\n",
        "    result = max_of_two_numbers(num1, num2)\n",
        "\n",
        "    # Output the result\n",
        "    print(f\"The maximum of {num1} and {num2} is: {result}\")"
      ],
      "metadata": {
        "id": "Xy35dP0GEZW1"
      },
      "execution_count": null,
      "outputs": []
    },
    {
      "cell_type": "markdown",
      "source": [
        "# Factorial of a Number"
      ],
      "metadata": {
        "id": "LqHq7E-pEbu4"
      }
    },
    {
      "cell_type": "code",
      "source": [
        "def factorial(n):\n",
        "    # Input: A non-negative integer n\n",
        "    # Output: The factorial of n\n",
        "    result = 1\n",
        "    for i in range(1, n + 1):\n",
        "        result *= i\n",
        "    return result\n",
        "\n",
        "# Example usage\n",
        "if __name__ == \"__main__\":\n",
        "    # Example number\n",
        "    number = 5\n",
        "\n",
        "    # Calculate factorial using the implemented function\n",
        "    fact = factorial(number)\n",
        "\n",
        "    # Output the result\n",
        "    print(f\"The factorial of {number} is: {fact}\")"
      ],
      "metadata": {
        "id": "Y8lDZmoPEcHW"
      },
      "execution_count": null,
      "outputs": []
    },
    {
      "cell_type": "markdown",
      "source": [
        "# Shor's Algorithm for Integer Factorization"
      ],
      "metadata": {
        "id": "WNrFf8KJJJj3"
      }
    },
    {
      "cell_type": "code",
      "source": [
        "import random\n",
        "import math\n",
        "\n",
        "def shor_factorization(N):\n",
        "    # Input: Integer N\n",
        "    # Output: Factors of N\n",
        "\n",
        "    # Step 1: Choose a random integer a\n",
        "    a = random.randint(2, N - 1)\n",
        "\n",
        "    # Step 2: Compute gcd(a, N)\n",
        "    gcd_value = math.gcd(a, N)\n",
        "    if gcd_value != 1:\n",
        "        return gcd_value\n",
        "\n",
        "    # Step 3: Find the period r of a^x mod N\n",
        "    r = find_period(a, N)\n",
        "\n",
        "    # Step 4: Check if r is even and a^(r/2) is not congruent to -1 mod N\n",
        "    if r % 2 == 0:\n",
        "        power = pow(a, r // 2, N)\n",
        "        if power != 1 and power != N - 1:\n",
        "            factor1 = math.gcd(power - 1, N)\n",
        "            factor2 = math.gcd(power + 1, N)\n",
        "            return factor1, factor2\n",
        "\n",
        "    # If no factors found, return None (should not happen for valid N)\n",
        "    return None\n",
        "\n",
        "def find_period(a, N):\n",
        "    # Function to find the period of a^x mod N using quantum-inspired techniques\n",
        "    x = 1\n",
        "    power = a\n",
        "    while power % N != 1:\n",
        "        power = (power * a) % N\n",
        "        x += 1\n",
        "    return x\n",
        "\n",
        "# Example usage\n",
        "if __name__ == \"__main__\":\n",
        "    # Example number\n",
        "    N = 15\n",
        "\n",
        "    # Factorize using Shor's algorithm\n",
        "    factors = shor_factorization(N)\n",
        "\n",
        "    # Output the result\n",
        "    print(f\"The factors of {N} are: {factors}\")"
      ],
      "metadata": {
        "id": "9gg3O0EXJMFR"
      },
      "execution_count": null,
      "outputs": []
    }
  ]
}